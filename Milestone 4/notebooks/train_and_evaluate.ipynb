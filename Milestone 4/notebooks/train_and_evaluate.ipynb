{
 "cells": [
  {
   "cell_type": "code",
   "execution_count": 15,
   "id": "e9a31183-58fa-4584-b1d0-94acdea46fff",
   "metadata": {},
   "outputs": [],
   "source": [
    "import pandas as pd\n",
    "import numpy as np\n",
    "import tensorflow as tf\n",
    "import matplotlib.pyplot as plt\n",
    "from sklearn.model_selection import train_test_split\n",
    "from sklearn.preprocessing import StandardScaler\n",
    "from tensorflow.keras.callbacks import ModelCheckpoint"
   ]
  },
  {
   "cell_type": "code",
   "execution_count": 16,
   "id": "6ec95baa-8241-43f0-8b4e-cbafd6e64498",
   "metadata": {},
   "outputs": [
    {
     "name": "stdout",
     "output_type": "stream",
     "text": [
      "Loaded data shape: (8956, 770)\n"
     ]
    },
    {
     "data": {
      "text/html": [
       "<div>\n",
       "<style scoped>\n",
       "    .dataframe tbody tr th:only-of-type {\n",
       "        vertical-align: middle;\n",
       "    }\n",
       "\n",
       "    .dataframe tbody tr th {\n",
       "        vertical-align: top;\n",
       "    }\n",
       "\n",
       "    .dataframe thead th {\n",
       "        text-align: right;\n",
       "    }\n",
       "</style>\n",
       "<table border=\"1\" class=\"dataframe\">\n",
       "  <thead>\n",
       "    <tr style=\"text-align: right;\">\n",
       "      <th></th>\n",
       "      <th>query_id</th>\n",
       "      <th>f0</th>\n",
       "      <th>f1</th>\n",
       "      <th>f2</th>\n",
       "      <th>f3</th>\n",
       "      <th>f4</th>\n",
       "      <th>f5</th>\n",
       "      <th>f6</th>\n",
       "      <th>f7</th>\n",
       "      <th>f8</th>\n",
       "      <th>...</th>\n",
       "      <th>f759</th>\n",
       "      <th>f760</th>\n",
       "      <th>f761</th>\n",
       "      <th>f762</th>\n",
       "      <th>f763</th>\n",
       "      <th>f764</th>\n",
       "      <th>f765</th>\n",
       "      <th>f766</th>\n",
       "      <th>f767</th>\n",
       "      <th>event_timestamp</th>\n",
       "    </tr>\n",
       "  </thead>\n",
       "  <tbody>\n",
       "    <tr>\n",
       "      <th>0</th>\n",
       "      <td>113370</td>\n",
       "      <td>0.258986</td>\n",
       "      <td>-0.027564</td>\n",
       "      <td>0.276113</td>\n",
       "      <td>-0.224378</td>\n",
       "      <td>-0.175721</td>\n",
       "      <td>0.441630</td>\n",
       "      <td>-0.433628</td>\n",
       "      <td>0.378962</td>\n",
       "      <td>-0.357981</td>\n",
       "      <td>...</td>\n",
       "      <td>-0.584825</td>\n",
       "      <td>0.383922</td>\n",
       "      <td>-0.937421</td>\n",
       "      <td>0.237203</td>\n",
       "      <td>0.441037</td>\n",
       "      <td>0.164361</td>\n",
       "      <td>0.354884</td>\n",
       "      <td>0.030042</td>\n",
       "      <td>-0.173899</td>\n",
       "      <td>2025-03-27 07:01:04.332726+00:00</td>\n",
       "    </tr>\n",
       "    <tr>\n",
       "      <th>1</th>\n",
       "      <td>113376</td>\n",
       "      <td>0.536288</td>\n",
       "      <td>0.302481</td>\n",
       "      <td>0.338010</td>\n",
       "      <td>-0.335701</td>\n",
       "      <td>0.082461</td>\n",
       "      <td>-0.327598</td>\n",
       "      <td>-0.128405</td>\n",
       "      <td>0.244543</td>\n",
       "      <td>-0.038849</td>\n",
       "      <td>...</td>\n",
       "      <td>-0.236155</td>\n",
       "      <td>0.501087</td>\n",
       "      <td>-0.653869</td>\n",
       "      <td>0.063183</td>\n",
       "      <td>-0.144010</td>\n",
       "      <td>0.228562</td>\n",
       "      <td>0.007664</td>\n",
       "      <td>0.287430</td>\n",
       "      <td>-0.210877</td>\n",
       "      <td>2025-03-27 07:01:04.332726+00:00</td>\n",
       "    </tr>\n",
       "    <tr>\n",
       "      <th>2</th>\n",
       "      <td>113379</td>\n",
       "      <td>-0.211941</td>\n",
       "      <td>-0.603750</td>\n",
       "      <td>0.911297</td>\n",
       "      <td>-0.298135</td>\n",
       "      <td>-0.428725</td>\n",
       "      <td>0.105656</td>\n",
       "      <td>-0.122141</td>\n",
       "      <td>0.258227</td>\n",
       "      <td>-0.612179</td>\n",
       "      <td>...</td>\n",
       "      <td>-0.583509</td>\n",
       "      <td>0.022270</td>\n",
       "      <td>-1.073287</td>\n",
       "      <td>0.192814</td>\n",
       "      <td>-0.143980</td>\n",
       "      <td>0.073164</td>\n",
       "      <td>0.496558</td>\n",
       "      <td>0.227491</td>\n",
       "      <td>-0.139115</td>\n",
       "      <td>2025-03-27 07:01:04.332726+00:00</td>\n",
       "    </tr>\n",
       "    <tr>\n",
       "      <th>3</th>\n",
       "      <td>113381</td>\n",
       "      <td>0.538125</td>\n",
       "      <td>0.495269</td>\n",
       "      <td>0.389920</td>\n",
       "      <td>0.248746</td>\n",
       "      <td>-0.348640</td>\n",
       "      <td>0.115813</td>\n",
       "      <td>-0.029949</td>\n",
       "      <td>-0.156427</td>\n",
       "      <td>-0.437747</td>\n",
       "      <td>...</td>\n",
       "      <td>-0.279470</td>\n",
       "      <td>0.261664</td>\n",
       "      <td>-0.921650</td>\n",
       "      <td>0.390631</td>\n",
       "      <td>-0.057740</td>\n",
       "      <td>-0.144272</td>\n",
       "      <td>0.009533</td>\n",
       "      <td>-0.548613</td>\n",
       "      <td>-0.171548</td>\n",
       "      <td>2025-03-27 07:01:04.332726+00:00</td>\n",
       "    </tr>\n",
       "    <tr>\n",
       "      <th>4</th>\n",
       "      <td>113385</td>\n",
       "      <td>0.416974</td>\n",
       "      <td>0.388191</td>\n",
       "      <td>-0.261935</td>\n",
       "      <td>-0.005483</td>\n",
       "      <td>0.311761</td>\n",
       "      <td>0.094630</td>\n",
       "      <td>0.299291</td>\n",
       "      <td>-0.063912</td>\n",
       "      <td>0.627821</td>\n",
       "      <td>...</td>\n",
       "      <td>-0.180703</td>\n",
       "      <td>0.192929</td>\n",
       "      <td>-0.065481</td>\n",
       "      <td>0.033572</td>\n",
       "      <td>0.199991</td>\n",
       "      <td>-0.090573</td>\n",
       "      <td>-0.112493</td>\n",
       "      <td>0.147670</td>\n",
       "      <td>-0.128924</td>\n",
       "      <td>2025-03-27 07:01:04.332726+00:00</td>\n",
       "    </tr>\n",
       "  </tbody>\n",
       "</table>\n",
       "<p>5 rows × 770 columns</p>\n",
       "</div>"
      ],
      "text/plain": [
       "   query_id        f0        f1        f2        f3        f4        f5  \\\n",
       "0    113370  0.258986 -0.027564  0.276113 -0.224378 -0.175721  0.441630   \n",
       "1    113376  0.536288  0.302481  0.338010 -0.335701  0.082461 -0.327598   \n",
       "2    113379 -0.211941 -0.603750  0.911297 -0.298135 -0.428725  0.105656   \n",
       "3    113381  0.538125  0.495269  0.389920  0.248746 -0.348640  0.115813   \n",
       "4    113385  0.416974  0.388191 -0.261935 -0.005483  0.311761  0.094630   \n",
       "\n",
       "         f6        f7        f8  ...      f759      f760      f761      f762  \\\n",
       "0 -0.433628  0.378962 -0.357981  ... -0.584825  0.383922 -0.937421  0.237203   \n",
       "1 -0.128405  0.244543 -0.038849  ... -0.236155  0.501087 -0.653869  0.063183   \n",
       "2 -0.122141  0.258227 -0.612179  ... -0.583509  0.022270 -1.073287  0.192814   \n",
       "3 -0.029949 -0.156427 -0.437747  ... -0.279470  0.261664 -0.921650  0.390631   \n",
       "4  0.299291 -0.063912  0.627821  ... -0.180703  0.192929 -0.065481  0.033572   \n",
       "\n",
       "       f763      f764      f765      f766      f767  \\\n",
       "0  0.441037  0.164361  0.354884  0.030042 -0.173899   \n",
       "1 -0.144010  0.228562  0.007664  0.287430 -0.210877   \n",
       "2 -0.143980  0.073164  0.496558  0.227491 -0.139115   \n",
       "3 -0.057740 -0.144272  0.009533 -0.548613 -0.171548   \n",
       "4  0.199991 -0.090573 -0.112493  0.147670 -0.128924   \n",
       "\n",
       "                    event_timestamp  \n",
       "0  2025-03-27 07:01:04.332726+00:00  \n",
       "1  2025-03-27 07:01:04.332726+00:00  \n",
       "2  2025-03-27 07:01:04.332726+00:00  \n",
       "3  2025-03-27 07:01:04.332726+00:00  \n",
       "4  2025-03-27 07:01:04.332726+00:00  \n",
       "\n",
       "[5 rows x 770 columns]"
      ]
     },
     "execution_count": 16,
     "metadata": {},
     "output_type": "execute_result"
    }
   ],
   "source": [
    "df = pd.read_csv(\"../../Milestone 3/data/processed/query_features_with_timestamp.csv\")\n",
    "print(\"Loaded data shape:\", df.shape)\n",
    "df.head()"
   ]
  },
  {
   "cell_type": "code",
   "execution_count": 19,
   "id": "f51079e7-c790-4666-b44c-f2247801fa6a",
   "metadata": {},
   "outputs": [
    {
     "name": "stdout",
     "output_type": "stream",
     "text": [
      "Features: (8956, 768) Labels: (8956,)\n"
     ]
    }
   ],
   "source": [
    "features = [col for col in df.columns if col.startswith('f')]\n",
    "X = df[features].values\n",
    "\n",
    "np.random.seed(42)\n",
    "df[\"label\"] = np.random.randint(0, 2, size=len(df))\n",
    "y = df[\"label\"].values\n",
    "\n",
    "print(\"Features:\", X.shape, \"Labels:\", y.shape)"
   ]
  },
  {
   "cell_type": "code",
   "execution_count": 20,
   "id": "f3700eaa-7ad7-43b0-bf85-76583784ad58",
   "metadata": {},
   "outputs": [],
   "source": [
    "scaler = StandardScaler()\n",
    "X_scaled = scaler.fit_transform(X)\n",
    "\n",
    "# Split into train and test sets\n",
    "X_train, X_test, y_train, y_test = train_test_split(X_scaled, y, test_size=0.2, random_state=42)"
   ]
  },
  {
   "cell_type": "code",
   "execution_count": 21,
   "id": "53126bb4-a100-4f18-a1b5-05ac3197cf84",
   "metadata": {},
   "outputs": [],
   "source": [
    "model = tf.keras.Sequential([\n",
    "    tf.keras.layers.Dense(256, activation='relu', input_shape=(768,)),\n",
    "    tf.keras.layers.Dropout(0.3),\n",
    "    tf.keras.layers.Dense(128, activation='relu'),\n",
    "    tf.keras.layers.Dense(1, activation='sigmoid')\n",
    "])\n",
    "\n",
    "model.compile(optimizer='adam', loss='binary_crossentropy', metrics=['accuracy'])"
   ]
  },
  {
   "cell_type": "code",
   "execution_count": 22,
   "id": "99591c0e-aedc-43d4-8b15-b1920a9320b9",
   "metadata": {},
   "outputs": [
    {
     "name": "stdout",
     "output_type": "stream",
     "text": [
      "Model: \"sequential_2\"\n",
      "_________________________________________________________________\n",
      " Layer (type)                Output Shape              Param #   \n",
      "=================================================================\n",
      " dense_6 (Dense)             (None, 256)               196864    \n",
      "                                                                 \n",
      " dropout_2 (Dropout)         (None, 256)               0         \n",
      "                                                                 \n",
      " dense_7 (Dense)             (None, 128)               32896     \n",
      "                                                                 \n",
      " dense_8 (Dense)             (None, 1)                 129       \n",
      "                                                                 \n",
      "=================================================================\n",
      "Total params: 229889 (898.00 KB)\n",
      "Trainable params: 229889 (898.00 KB)\n",
      "Non-trainable params: 0 (0.00 Byte)\n",
      "_________________________________________________________________\n"
     ]
    }
   ],
   "source": [
    "model.summary()"
   ]
  },
  {
   "cell_type": "code",
   "execution_count": 26,
   "id": "248e3880-abed-4a94-bc90-f3ea2b8d38de",
   "metadata": {},
   "outputs": [],
   "source": [
    "checkpoint_cb = tf.keras.callbacks.ModelCheckpoint(\n",
    "    filepath=\"../models/checkpoints/epoch_{epoch:02d}_valacc_{val_accuracy:.4f}.h5\",\n",
    "    monitor='val_accuracy',\n",
    "    save_best_only=False,\n",
    "    save_weights_only=False,\n",
    "    verbose=1\n",
    ")\n",
    "\n",
    "early_stop_cb = tf.keras.callbacks.EarlyStopping(patience=5, restore_best_weights=True)"
   ]
  },
  {
   "cell_type": "code",
   "execution_count": 28,
   "id": "b45f64cb-87b9-4cbd-83f0-854faff63e1e",
   "metadata": {},
   "outputs": [
    {
     "name": "stdout",
     "output_type": "stream",
     "text": [
      "Epoch 1/50\n",
      "150/180 [========================>.....] - ETA: 0s - loss: 0.5533 - accuracy: 0.7244\n",
      "Epoch 1: saving model to ../models/checkpoints/epoch_01_valacc_0.4941.h5\n",
      "180/180 [==============================] - 0s 1ms/step - loss: 0.5589 - accuracy: 0.7180 - val_loss: 0.7748 - val_accuracy: 0.4941\n",
      "Epoch 2/50\n",
      "155/180 [========================>.....] - ETA: 0s - loss: 0.4883 - accuracy: 0.7712\n",
      "Epoch 2: saving model to ../models/checkpoints/epoch_02_valacc_0.4955.h5\n",
      "180/180 [==============================] - 0s 1ms/step - loss: 0.4929 - accuracy: 0.7660 - val_loss: 0.8113 - val_accuracy: 0.4955\n",
      "Epoch 3/50\n",
      "159/180 [=========================>....] - ETA: 0s - loss: 0.4079 - accuracy: 0.8213\n",
      "Epoch 3: saving model to ../models/checkpoints/epoch_03_valacc_0.4836.h5\n",
      "180/180 [==============================] - 0s 1ms/step - loss: 0.4141 - accuracy: 0.8164 - val_loss: 0.8929 - val_accuracy: 0.4836\n",
      "Epoch 4/50\n",
      "157/180 [=========================>....] - ETA: 0s - loss: 0.3472 - accuracy: 0.8589\n",
      "Epoch 4: saving model to ../models/checkpoints/epoch_04_valacc_0.4878.h5\n",
      "180/180 [==============================] - 0s 1ms/step - loss: 0.3508 - accuracy: 0.8566 - val_loss: 0.9706 - val_accuracy: 0.4878\n",
      "Epoch 5/50\n",
      "166/180 [==========================>...] - ETA: 0s - loss: 0.2893 - accuracy: 0.8837\n",
      "Epoch 5: saving model to ../models/checkpoints/epoch_05_valacc_0.5059.h5\n",
      "180/180 [==============================] - 0s 1ms/step - loss: 0.2955 - accuracy: 0.8805 - val_loss: 1.0339 - val_accuracy: 0.5059\n",
      "Epoch 6/50\n",
      "176/180 [============================>.] - ETA: 0s - loss: 0.2513 - accuracy: 0.8988\n",
      "Epoch 6: saving model to ../models/checkpoints/epoch_06_valacc_0.4997.h5\n",
      "180/180 [==============================] - 0s 1ms/step - loss: 0.2522 - accuracy: 0.8983 - val_loss: 1.1344 - val_accuracy: 0.4997\n"
     ]
    }
   ],
   "source": [
    "history = model.fit(\n",
    "    X_train, y_train,\n",
    "    validation_split=0.2,\n",
    "    epochs=50,\n",
    "    batch_size=32,\n",
    "    callbacks=[checkpoint_cb, early_stop_cb]\n",
    ")"
   ]
  },
  {
   "cell_type": "code",
   "execution_count": 25,
   "id": "3d5491fd-4aa2-4e86-8dc7-652182b91d56",
   "metadata": {},
   "outputs": [
    {
     "data": {
      "image/png": "[encoded data removed]",
      "text/plain": [
       "<Figure size 640x480 with 1 Axes>"
      ]
     },
     "metadata": {},
     "output_type": "display_data"
    }
   ],
   "source": [
    "plt.plot(history.history['accuracy'], label='Train Accuracy')\n",
    "plt.plot(history.history['val_accuracy'], label='Val Accuracy')\n",
    "plt.title('Accuracy Over Epochs')\n",
    "plt.xlabel('Epoch')\n",
    "plt.ylabel('Accuracy')\n",
    "plt.legend()\n",
    "plt.grid(True)\n",
    "plt.show()"
   ]
  },
  {
   "cell_type": "code",
   "execution_count": 29,
   "id": "3ba38c93-6e6d-4840-88a0-e3f648f9078f",
   "metadata": {},
   "outputs": [
    {
     "name": "stdout",
     "output_type": "stream",
     "text": [
      "INFO:tensorflow:Assets written to: ../models/final_model/assets\n"
     ]
    },
    {
     "name": "stderr",
     "output_type": "stream",
     "text": [
      "INFO:tensorflow:Assets written to: ../models/final_model/assets\n"
     ]
    },
    {
     "name": "stdout",
     "output_type": "stream",
     "text": [
      "✅ Final model saved (for reference)\n"
     ]
    }
   ],
   "source": [
    "model.save(\"../models/final_model\")\n",
    "print(\"✅ Final model saved (for reference)\")"
   ]
  },
  {
   "cell_type": "markdown",
   "id": "dbefd68f-6686-421f-bff0-1ba16d6536ad",
   "metadata": {},
   "source": []
  }
 ],
 "metadata": {
  "kernelspec": {
   "display_name": "Python (smartsearch)",
   "language": "python",
   "name": "smartsearch"
  },
  "language_info": {
   "codemirror_mode": {
    "name": "ipython",
    "version": 3
   },
   "file_extension": ".py",
   "mimetype": "text/x-python",
   "name": "python",
   "nbconvert_exporter": "python",
   "pygments_lexer": "ipython3",
   "version": "3.9.21"
  }
 },
 "nbformat": 4,
 "nbformat_minor": 5
}
