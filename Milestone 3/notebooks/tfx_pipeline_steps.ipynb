{
 "cells": [
  {
   "cell_type": "markdown",
   "id": "294db53f",
   "metadata": {},
   "source": [
    "# Milestone 3"
   ]
  },
  {
   "cell_type": "markdown",
   "id": "45245092",
   "metadata": {},
   "source": [
    "## TFX Pipeline"
   ]
  },
  {
   "cell_type": "code",
   "execution_count": 4,
   "id": "033df533",
   "metadata": {},
   "outputs": [],
   "source": [
    "import tfx\n",
    "import tensorflow as tf"
   ]
  },
  {
   "cell_type": "code",
   "execution_count": 5,
   "id": "a8983840",
   "metadata": {},
   "outputs": [
    {
     "name": "stdout",
     "output_type": "stream",
     "text": [
      "TFX Version: 1.15.0\n",
      "TensorFlow Version: 2.15.1\n"
     ]
    }
   ],
   "source": [
    "print(\"TFX Version:\", tfx.__version__)\n",
    "print(\"TensorFlow Version:\", tf.__version__)"
   ]
  },
  {
   "cell_type": "code",
   "execution_count": 11,
   "id": "6a7cb2cb",
   "metadata": {},
   "outputs": [],
   "source": [
    "from tfx.orchestration.metadata import sqlite_metadata_connection_config\n",
    "from tfx.orchestration.portable.mlmd import execution_lib\n",
    "from ml_metadata.metadata_store import metadata_store\n",
    "import os"
   ]
  },
  {
   "cell_type": "code",
   "execution_count": 7,
   "id": "d900213a",
   "metadata": {},
   "outputs": [],
   "source": [
    "metadata_path = \"../tfx_metadata/metadata.db\"\n",
    "metadata_config = sqlite_metadata_connection_config(metadata_path)"
   ]
  },
  {
   "cell_type": "code",
   "execution_count": 13,
   "id": "95990eed",
   "metadata": {},
   "outputs": [],
   "source": [
    "store = metadata_store.MetadataStore(metadata_config)"
   ]
  },
  {
   "cell_type": "markdown",
   "id": "ba4250da",
   "metadata": {},
   "source": [
    "### Connect and list artifact types"
   ]
  },
  {
   "cell_type": "code",
   "execution_count": 14,
   "id": "f867add7",
   "metadata": {},
   "outputs": [
    {
     "name": "stdout",
     "output_type": "stream",
     "text": [
      "✅ Available Pipelines:\n",
      "- multimodal_search_pipeline\n"
     ]
    }
   ],
   "source": [
    "pipelines = store.get_contexts_by_type(\"pipeline\")\n",
    "print(\"✅ Available Pipelines:\")\n",
    "for p in pipelines:\n",
    "    print(\"-\", p.name)"
   ]
  },
  {
   "cell_type": "code",
   "execution_count": 15,
   "id": "dc0a40d5",
   "metadata": {},
   "outputs": [
    {
     "name": "stdout",
     "output_type": "stream",
     "text": [
      "\n",
      "📊 Pipeline: multimodal_search_pipeline — 15 execution(s)\n",
      "  🔹 Execution 1: 1742963003844 | State: 2\n",
      "  🔹 Execution 2: 1742963003749 | State: 5\n",
      "  🔹 Execution 3: 1742963003521 | State: 5\n",
      "  🔹 Execution 4: 1742963003351 | State: 5\n",
      "  🔹 Execution 5: 1742963003103 | State: 5\n",
      "  🔹 Execution 6: 1742962399922 | State: 2\n",
      "  🔹 Execution 7: 1742962399583 | State: 3\n",
      "  🔹 Execution 8: 1742962396804 | State: 3\n",
      "  🔹 Execution 9: 1742962385139 | State: 3\n",
      "  🔹 Execution 10: 1742962298829 | State: 3\n",
      "  🔹 Execution 11: 1742961979164 | State: 4\n",
      "  🔹 Execution 12: 1742961971544 | State: 3\n",
      "  🔹 Execution 13: 1742961969532 | State: 3\n",
      "  🔹 Execution 14: 1742961968838 | State: 3\n",
      "  🔹 Execution 15: 1742961939532 | State: 3\n"
     ]
    }
   ],
   "source": [
    "for p in pipelines:\n",
    "    executions = store.get_executions_by_context(p.id)\n",
    "    print(f\"\\n📊 Pipeline: {p.name} — {len(executions)} execution(s)\")\n",
    "    for i, e in enumerate(executions):\n",
    "        print(f\"  🔹 Execution {i+1}: {e.last_update_time_since_epoch} | State: {e.last_known_state}\")"
   ]
  },
  {
   "cell_type": "markdown",
   "id": "82106fdb",
   "metadata": {},
   "source": [
    "## TFX components"
   ]
  },
  {
   "cell_type": "code",
   "execution_count": 16,
   "id": "7dd71c47",
   "metadata": {},
   "outputs": [
    {
     "name": "stdout",
     "output_type": "stream",
     "text": [
      "\n",
      "✅ Components Used (artifact types):\n"
     ]
    },
    {
     "ename": "TypeError",
     "evalue": "17 has type int, but expected one of: bytes, unicode",
     "output_type": "error",
     "traceback": [
      "\u001b[0;31m---------------------------------------------------------------------------\u001b[0m",
      "\u001b[0;31mTypeError\u001b[0m                                 Traceback (most recent call last)",
      "\u001b[0;32m/tmp/ipykernel_3568546/1974463182.py\u001b[0m in \u001b[0;36m<cell line: 10>\u001b[0;34m()\u001b[0m\n\u001b[1;32m      9\u001b[0m \u001b[0mprint\u001b[0m\u001b[0;34m(\u001b[0m\u001b[0;34m\"\\n✅ Components Used (artifact types):\"\u001b[0m\u001b[0;34m)\u001b[0m\u001b[0;34m\u001b[0m\u001b[0;34m\u001b[0m\u001b[0m\n\u001b[1;32m     10\u001b[0m \u001b[0;32mfor\u001b[0m \u001b[0mcid\u001b[0m \u001b[0;32min\u001b[0m \u001b[0mcomponents\u001b[0m\u001b[0;34m:\u001b[0m\u001b[0;34m\u001b[0m\u001b[0;34m\u001b[0m\u001b[0m\n\u001b[0;32m---> 11\u001b[0;31m     \u001b[0mprint\u001b[0m\u001b[0;34m(\u001b[0m\u001b[0;34m\"-\"\u001b[0m\u001b[0;34m,\u001b[0m \u001b[0mstore\u001b[0m\u001b[0;34m.\u001b[0m\u001b[0mget_artifact_type\u001b[0m\u001b[0;34m(\u001b[0m\u001b[0mcid\u001b[0m\u001b[0;34m)\u001b[0m\u001b[0;34m.\u001b[0m\u001b[0mname\u001b[0m\u001b[0;34m)\u001b[0m\u001b[0;34m\u001b[0m\u001b[0;34m\u001b[0m\u001b[0m\n\u001b[0m",
      "\u001b[0;32m~/miniconda3/envs/smartsearch/lib/python3.9/site-packages/ml_metadata/metadata_store/metadata_store.py\u001b[0m in \u001b[0;36mget_artifact_type\u001b[0;34m(***failed resolving arguments***)\u001b[0m\n\u001b[1;32m   1097\u001b[0m     \u001b[0;32mdel\u001b[0m \u001b[0mextra_options\u001b[0m\u001b[0;34m\u001b[0m\u001b[0;34m\u001b[0m\u001b[0m\n\u001b[1;32m   1098\u001b[0m     \u001b[0mrequest\u001b[0m \u001b[0;34m=\u001b[0m \u001b[0mmetadata_store_service_pb2\u001b[0m\u001b[0;34m.\u001b[0m\u001b[0mGetArtifactTypeRequest\u001b[0m\u001b[0;34m(\u001b[0m\u001b[0;34m)\u001b[0m\u001b[0;34m\u001b[0m\u001b[0;34m\u001b[0m\u001b[0m\n\u001b[0;32m-> 1099\u001b[0;31m     \u001b[0mrequest\u001b[0m\u001b[0;34m.\u001b[0m\u001b[0mtype_name\u001b[0m \u001b[0;34m=\u001b[0m \u001b[0mtype_name\u001b[0m\u001b[0;34m\u001b[0m\u001b[0;34m\u001b[0m\u001b[0m\n\u001b[0m\u001b[1;32m   1100\u001b[0m     \u001b[0;32mif\u001b[0m \u001b[0mtype_version\u001b[0m\u001b[0;34m:\u001b[0m\u001b[0;34m\u001b[0m\u001b[0;34m\u001b[0m\u001b[0m\n\u001b[1;32m   1101\u001b[0m       \u001b[0mrequest\u001b[0m\u001b[0;34m.\u001b[0m\u001b[0mtype_version\u001b[0m \u001b[0;34m=\u001b[0m \u001b[0mtype_version\u001b[0m\u001b[0;34m\u001b[0m\u001b[0;34m\u001b[0m\u001b[0m\n",
      "\u001b[0;31mTypeError\u001b[0m: 17 has type int, but expected one of: bytes, unicode"
     ]
    }
   ],
   "source": [
    "components = set()\n",
    "for p in pipelines:\n",
    "    executions = store.get_executions_by_context(p.id)\n",
    "    for e in executions:\n",
    "        for event in store.get_events_by_execution_ids([e.id]):\n",
    "            artifact = store.get_artifacts_by_id([event.artifact_id])[0]\n",
    "            components.add(artifact.type_id)\n",
    "\n",
    "print(\"\\n✅ Components Used (artifact types):\")\n",
    "for cid in components:\n",
    "    print(\"-\", store.get_artifact_type(cid).name)"
   ]
  },
  {
   "cell_type": "code",
   "execution_count": 18,
   "id": "1dc8b720",
   "metadata": {},
   "outputs": [
    {
     "name": "stdout",
     "output_type": "stream",
     "text": [
      "✅ Registered Pipelines and Runs:\n",
      "- id: 1\n",
      "type_id: 10\n",
      "name: \"multimodal_search_pipeline\"\n",
      "type: \"pipeline\"\n",
      "create_time_since_epoch: 1742961908546\n",
      "last_update_time_since_epoch: 1742961908546\n",
      "\n",
      "- id: 2\n",
      "type_id: 11\n",
      "name: \"2025-03-26T04:05:08.259235\"\n",
      "type: \"pipeline_run\"\n",
      "create_time_since_epoch: 1742961908683\n",
      "last_update_time_since_epoch: 1742961908683\n",
      "\n",
      "- id: 3\n",
      "type_id: 12\n",
      "name: \"multimodal_search_pipeline.CsvExampleGen\"\n",
      "type: \"node\"\n",
      "create_time_since_epoch: 1742961908891\n",
      "last_update_time_since_epoch: 1742961908891\n",
      "\n",
      "- id: 4\n",
      "type_id: 14\n",
      "name: \"5aeebdc1a6b8d70ad5f2604136e8ced09eb189bc0a844b158768661caeb61da9\"\n",
      "type: \"execution_cache\"\n",
      "create_time_since_epoch: 1742961909320\n",
      "last_update_time_since_epoch: 1742961909320\n",
      "\n",
      "- id: 5\n",
      "type_id: 12\n",
      "name: \"multimodal_search_pipeline.StatisticsGen\"\n",
      "type: \"node\"\n",
      "create_time_since_epoch: 1742961939608\n",
      "last_update_time_since_epoch: 1742961939608\n",
      "\n",
      "- id: 6\n",
      "type_id: 14\n",
      "name: \"319abcd2182b71fc8b7e0a842fcd2dfc63f4ef77ea6560eb564928e9023134ca\"\n",
      "type: \"execution_cache\"\n",
      "create_time_since_epoch: 1742961939838\n",
      "last_update_time_since_epoch: 1742961939838\n",
      "\n",
      "- id: 7\n",
      "type_id: 12\n",
      "name: \"multimodal_search_pipeline.SchemaGen\"\n",
      "type: \"node\"\n",
      "create_time_since_epoch: 1742961968982\n",
      "last_update_time_since_epoch: 1742961968982\n",
      "\n",
      "- id: 8\n",
      "type_id: 14\n",
      "name: \"1b4bbe195652d5e74cb507d708305735903d40df8234b6646aa6078c970289ab\"\n",
      "type: \"execution_cache\"\n",
      "create_time_since_epoch: 1742961969212\n",
      "last_update_time_since_epoch: 1742961969212\n",
      "\n",
      "- id: 9\n",
      "type_id: 12\n",
      "name: \"multimodal_search_pipeline.ExampleValidator\"\n",
      "type: \"node\"\n",
      "create_time_since_epoch: 1742961969608\n",
      "last_update_time_since_epoch: 1742961969608\n",
      "\n",
      "- id: 10\n",
      "type_id: 14\n",
      "name: \"9230fd44ddefc1788e837a4a4983688e8decde04c79f18fce42362126d956e7f\"\n",
      "type: \"execution_cache\"\n",
      "create_time_since_epoch: 1742961969840\n",
      "last_update_time_since_epoch: 1742961969840\n",
      "\n",
      "- id: 11\n",
      "type_id: 12\n",
      "name: \"multimodal_search_pipeline.Transform\"\n",
      "type: \"node\"\n",
      "create_time_since_epoch: 1742961971838\n",
      "last_update_time_since_epoch: 1742961971838\n",
      "\n",
      "- id: 12\n",
      "type_id: 14\n",
      "name: \"8f47d51bbc01f6a4f070d3b12d1d7c7c1261a5229a4dc69b8d8e033e9c667b91\"\n",
      "type: \"execution_cache\"\n",
      "create_time_since_epoch: 1742961972220\n",
      "last_update_time_since_epoch: 1742961972220\n",
      "\n",
      "- id: 13\n",
      "type_id: 11\n",
      "name: \"2025-03-26T04:10:37.122747\"\n",
      "type: \"pipeline_run\"\n",
      "create_time_since_epoch: 1742962237127\n",
      "last_update_time_since_epoch: 1742962237127\n",
      "\n",
      "- id: 14\n",
      "type_id: 14\n",
      "name: \"bd32332a4fbf153526b35f89569cf2363dabf76b5f510c4d5bcbe2c240b3f84f\"\n",
      "type: \"execution_cache\"\n",
      "create_time_since_epoch: 1742962237360\n",
      "last_update_time_since_epoch: 1742962237360\n",
      "\n",
      "- id: 15\n",
      "type_id: 14\n",
      "name: \"fb88d1ab5056c41a269b0eb8f6598c347e83d0056e569fe483853999f83159a1\"\n",
      "type: \"execution_cache\"\n",
      "create_time_since_epoch: 1742962299018\n",
      "last_update_time_since_epoch: 1742962299018\n",
      "\n",
      "- id: 16\n",
      "type_id: 14\n",
      "name: \"f84a38fde00a0cfee6684e426bf8d695d431a02283b99c375fdb4f6aeaee2f94\"\n",
      "type: \"execution_cache\"\n",
      "create_time_since_epoch: 1742962389208\n",
      "last_update_time_since_epoch: 1742962389208\n",
      "\n",
      "- id: 17\n",
      "type_id: 14\n",
      "name: \"4af9d4bafbc6b987a1d4c9c905197dc5ae82d15e4fce7192e93b8806d734a61d\"\n",
      "type: \"execution_cache\"\n",
      "create_time_since_epoch: 1742962397228\n",
      "last_update_time_since_epoch: 1742962397228\n",
      "\n",
      "- id: 18\n",
      "type_id: 14\n",
      "name: \"de906957bcb2622388336d531aee2447aa2ebc5a5b56f56196502cef72df4915\"\n",
      "type: \"execution_cache\"\n",
      "create_time_since_epoch: 1742962400146\n",
      "last_update_time_since_epoch: 1742962400146\n",
      "\n",
      "- id: 19\n",
      "type_id: 11\n",
      "name: \"2025-03-26T04:23:22.399510\"\n",
      "type: \"pipeline_run\"\n",
      "create_time_since_epoch: 1742963002505\n",
      "last_update_time_since_epoch: 1742963003101\n",
      "\n"
     ]
    }
   ],
   "source": [
    "with Metadata(metadata_config) as metadata:\n",
    "    pipelines = metadata.store.get_contexts()\n",
    "    print(\"✅ Registered Pipelines and Runs:\")\n",
    "    for ctx in pipelines:\n",
    "        print(\"-\", ctx)"
   ]
  },
  {
   "cell_type": "code",
   "execution_count": 17,
   "id": "3ece21b2",
   "metadata": {},
   "outputs": [
    {
     "name": "stderr",
     "output_type": "stream",
     "text": [
      "/tmp/ipykernel_3568546/48218112.py:26: UserWarning: Glyph 128200 (\\N{CHART WITH UPWARDS TREND}) missing from font(s) DejaVu Sans.\n",
      "  plt.tight_layout()\n",
      "/home/yassinemaatougui/miniconda3/envs/smartsearch/lib/python3.9/site-packages/IPython/core/pylabtools.py:151: UserWarning: Glyph 128200 (\\N{CHART WITH UPWARDS TREND}) missing from font(s) DejaVu Sans.\n",
      "  fig.canvas.print_figure(bytes_io, **kw)\n"
     ]
    },
    {
     "data": {
      "image/png": "[encoded data removed]",
      "text/plain": [
       "<Figure size 1000x400 with 1 Axes>"
      ]
     },
     "metadata": {},
     "output_type": "display_data"
    }
   ],
   "source": [
    "import pandas as pd\n",
    "import matplotlib.pyplot as plt\n",
    "import datetime\n",
    "\n",
    "records = []\n",
    "for p in pipelines:\n",
    "    executions = store.get_executions_by_context(p.id)\n",
    "    for e in executions:\n",
    "        ts = datetime.datetime.fromtimestamp(e.last_update_time_since_epoch / 1000)\n",
    "        records.append({\"pipeline\": p.name, \"timestamp\": ts})\n",
    "\n",
    "if records:\n",
    "    df = pd.DataFrame(records)\n",
    "    df[\"count\"] = 1\n",
    "\n",
    "    plt.figure(figsize=(10, 4))\n",
    "    for pipeline in df[\"pipeline\"].unique():\n",
    "        subset = df[df[\"pipeline\"] == pipeline]\n",
    "        plt.plot(subset[\"timestamp\"], subset[\"count\"].cumsum(), label=pipeline)\n",
    "\n",
    "    plt.title(\"📈 TFX Pipeline Execution Timeline\")\n",
    "    plt.xlabel(\"Timestamp\")\n",
    "    plt.ylabel(\"Cumulative Runs\")\n",
    "    plt.legend()\n",
    "    plt.grid(True)\n",
    "    plt.tight_layout()\n",
    "    plt.show()\n",
    "else:\n",
    "    print(\"No executions found to visualize.\")"
   ]
  },
  {
   "cell_type": "code",
   "execution_count": null,
   "id": "8ba7fcab",
   "metadata": {},
   "outputs": [],
   "source": []
  }
 ],
 "metadata": {
  "kernelspec": {
   "display_name": "Python (smartsearch)",
   "language": "python",
   "name": "smartsearch"
  },
  "language_info": {
   "codemirror_mode": {
    "name": "ipython",
    "version": 3
   },
   "file_extension": ".py",
   "mimetype": "text/x-python",
   "name": "python",
   "nbconvert_exporter": "python",
   "pygments_lexer": "ipython3",
   "version": "3.9.21"
  }
 },
 "nbformat": 4,
 "nbformat_minor": 5
}
